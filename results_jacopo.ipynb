{
 "cells": [
  {
   "cell_type": "code",
   "execution_count": 84,
   "metadata": {},
   "outputs": [],
   "source": [
    "# basic imports\n",
    "import os\n",
    "import pandas as pd\n",
    "import numpy as np\n",
    "import matplotlib.pyplot as plt\n",
    "import warnings\n",
    "import json\n",
    "import math\n",
    "import seaborn as sns\n",
    "import ast\n",
    "from collections import Counter\n",
    "import networkx as nx\n",
    "from pathlib import Path\n",
    "import subprocess\n",
    "\n",
    "# stats imports\n",
    "from scipy.stats import chi2_contingency\n",
    "from scipy.stats import ttest_ind\n",
    "from scipy.stats import kstest\n",
    "from scipy.stats import boxcox\n",
    "from statsmodels.tsa.stattools import adfuller\n",
    "from statsmodels.graphics.tsaplots import plot_acf, plot_pacf\n",
    "from statsmodels.tsa.arima.model import ARIMA\n",
    "from scipy.stats import boxcox\n",
    "\n",
    "# regression imports\n",
    "from statsmodels.stats import diagnostic\n",
    "from scipy import stats\n",
    "import statsmodels.api as sm\n",
    "import statsmodels.formula.api as smf\n",
    "from statsmodels.formula.api import mixedlm\n",
    "\n",
    "# src imports\n",
    "from src.utils import cleaning\n",
    "from src.utils import tokenization\n",
    "from src.utils import filling\n",
    "from src.utils import cluster_search\n",
    "from src.utils import add_features\n",
    "from src.data.continents_clusters import regions"
   ]
  },
  {
   "cell_type": "code",
   "execution_count": 85,
   "metadata": {},
   "outputs": [],
   "source": [
    "# data path\n",
    "DATA = './data/'\n",
    "\n",
    "# movie metadata loading\n",
    "df_movies = pd.read_csv(DATA + 'movie.metadata.tsv', sep='\\t', header=None)\n",
    "df_movies.columns = ['wikipedia_id', 'freebase_id', 'title', 'release_date', 'revenue', \n",
    "                     'runtime', 'spoken_languages', 'countries', 'genres']\n",
    "\n",
    "# charcaters metadata loading\n",
    "df_characters = pd.read_csv(DATA + 'character.metadata.tsv', sep='\\t', header=None)\n",
    "df_characters.columns = ['wikipedia_id', 'freebase_id', 'release_date', 'character_name', 'actor_birth',\n",
    "                     'actor_gender', 'actor_height', 'actor_ethnicity', 'actor_name', \n",
    "                     'age_at_release', 'freebase_map', 'freebase_character_id', 'freebase_actor_id']\n",
    "\n",
    "# plot summaries loading\n",
    "df_plots = pd.read_csv(DATA + 'plot_summaries.txt', sep='\\t', header=None, names=['wikipedia_id', 'plot_summary'])\n",
    "\n",
    "# TMDB dataset loading\n",
    "df_tmdb = pd.read_csv(DATA + 'TMDB_movie_dataset_v11.csv')\n",
    "\n",
    "# ratings datasets loading\n",
    "df_ratings_link = pd.read_csv(DATA + 'ratings_links.csv', sep=',')\n",
    "df_ratings_ratings = pd.read_csv(DATA + 'ratings_ratings.csv', sep=',')"
   ]
  },
  {
   "cell_type": "code",
   "execution_count": 86,
   "metadata": {},
   "outputs": [],
   "source": [
    "# df_movies has duplicates of the same movies which will be discarded based on keeping  \n",
    "# the entry that has the least number of missing values among the other columns. Only \n",
    "# duplicate movies with equal countries are kept\n",
    "df_movies = cleaning.drop_most_missing(df_movies, ['title', 'countries'])"
   ]
  },
  {
   "cell_type": "code",
   "execution_count": 87,
   "metadata": {},
   "outputs": [],
   "source": [
    "# doing the same duplicates cleaning as before for df_tmdb, considering \n",
    "# 'production_countries' instead of 'countries'\n",
    "df_tmdb = cleaning.drop_most_missing(df_tmdb, ['title', 'production_countries'])"
   ]
  },
  {
   "cell_type": "code",
   "execution_count": 88,
   "metadata": {},
   "outputs": [],
   "source": [
    "# merging df_movies and df_tmdb\n",
    "df_movies_tmdb = pd.merge(df_movies, df_tmdb, on='title')\n",
    "\n",
    "# drop some duplicate columns and then rename\n",
    "df_movies_tmdb = df_movies_tmdb.drop(['spoken_languages_y'], axis = 1).rename(columns={'spoken_languages_x': 'spoken_languages'}) \n",
    "df_movies_tmdb = df_movies_tmdb.drop(['genres_y'], axis = 1).rename(columns={'genres_x': 'genres'}) "
   ]
  },
  {
   "cell_type": "code",
   "execution_count": 89,
   "metadata": {},
   "outputs": [],
   "source": [
    "# cleaning 'spoken_languages', 'countries', 'genres' df_movies columns in df_movies_tmdb\n",
    "df_movies_tmdb['spoken_languages'] = df_movies_tmdb['spoken_languages'].apply(cleaning.clean_idxs)\n",
    "df_movies_tmdb['countries'] = df_movies_tmdb['countries'].apply(cleaning.clean_idxs)\n",
    "df_movies_tmdb['genres'] = df_movies_tmdb['genres'].apply(cleaning.clean_idxs)"
   ]
  },
  {
   "cell_type": "code",
   "execution_count": 90,
   "metadata": {},
   "outputs": [],
   "source": [
    "# use the release date of the TMDB dataset to fill the release date of a movie if not present in CMU dataset\n",
    "df_movies_tmdb['release_date_x'] = df_movies_tmdb['release_date_x'].fillna(df_movies_tmdb['release_date_y'])\n",
    "\n",
    "# drop missing release dates, remove duplicate column and rename release_date_x\n",
    "df_movies_tmdb = df_movies_tmdb.dropna(subset=['release_date_x'])\n",
    "df_movies_tmdb = df_movies_tmdb.drop(['release_date_y'], axis = 1)\n",
    "df_movies_tmdb = df_movies_tmdb.rename(columns={'release_date_x': \"release_date\"}) \n",
    "\n",
    "# clean dates to keep the release year only (first four digits of the attribute)\n",
    "df_movies_tmdb['release_date'] = df_movies_tmdb['release_date'].apply(cleaning.clean_dates)\n",
    "\n",
    "# filter dates to meaningful ones by keeping the release interval [1888, 2012], since \n",
    "# the very first movie was released in 1888 and meaningful data from df_movies is up to 2012\n",
    "df_movies_tmdb = cleaning.filter_years(df_movies_tmdb, 'release_date')"
   ]
  },
  {
   "cell_type": "code",
   "execution_count": 91,
   "metadata": {},
   "outputs": [],
   "source": [
    "# use the revenues of the TMDB dataset to fill the revenues of a movie if not present in CMU dataset\n",
    "df_movies_tmdb['revenue_x'] = df_movies_tmdb['revenue_x'].fillna(df_movies_tmdb['revenue_y'])\n",
    "\n",
    "# remove duplicate column and rename revenue_x\n",
    "df_movies_tmdb = df_movies_tmdb.drop(['revenue_y'], axis = 1)\n",
    "df_movies_tmdb = df_movies_tmdb.rename(columns={'revenue_x': \"revenue\"}) "
   ]
  },
  {
   "cell_type": "code",
   "execution_count": 92,
   "metadata": {},
   "outputs": [],
   "source": [
    "# use the runtimes of the TMDB dataset to fill the runtimes of a movie if not present in CMU dataset\n",
    "df_movies_tmdb['runtime_x'] = df_movies_tmdb['runtime_x'].fillna(df_movies_tmdb['runtime_y'])\n",
    "\n",
    "# remove duplicate column and rename runtime_x\n",
    "df_movies_tmdb = df_movies_tmdb.drop(['runtime_y'], axis = 1)\n",
    "df_movies_tmdb = df_movies_tmdb.rename(columns={'runtime_x': \"runtime\"}) "
   ]
  },
  {
   "cell_type": "code",
   "execution_count": 93,
   "metadata": {},
   "outputs": [],
   "source": [
    "# remove movies with no genre reported\n",
    "df_movies_tmdb = df_movies_tmdb.dropna(subset=['genres'])"
   ]
  },
  {
   "cell_type": "code",
   "execution_count": 94,
   "metadata": {},
   "outputs": [],
   "source": [
    "# dropping movies that have missing IMDB IDs\n",
    "df_movies_tmdb = df_movies_tmdb.dropna(subset=[\"imdb_id\"])\n",
    "df_movies_tmdb = df_movies_tmdb.drop(df_movies_tmdb[df_movies_tmdb[\"imdb_id\"] == 'nan'].index)\n",
    "\n",
    "# IMDB references in df_movies_tmdb are formatted differently than in df_ratings_link\n",
    "df_movies_tmdb['imdb_id'] = df_movies_tmdb['imdb_id'].apply(cleaning.clean_imdb)"
   ]
  },
  {
   "cell_type": "code",
   "execution_count": 95,
   "metadata": {},
   "outputs": [
    {
     "data": {
      "text/plain": [
       "Text(0, 0.5, 'Count of Ratings')"
      ]
     },
     "execution_count": 95,
     "metadata": {},
     "output_type": "execute_result"
    },
    {
     "data": {
      "image/png": "[encoded data removed]",
      "text/plain": [
       "<Figure size 640x480 with 1 Axes>"
      ]
     },
     "metadata": {},
     "output_type": "display_data"
    }
   ],
   "source": [
    "# testing how many ratings each movie has\n",
    "ratings_distirbution = df_ratings_ratings.groupby(\"movieId\").count()\n",
    "ratings_distirbution = ratings_distirbution.reset_index()\n",
    "plt.plot(ratings_distirbution[\"movieId\"], ratings_distirbution[\"userId\"])\n",
    "plt.xlabel(\"MovieId\")\n",
    "plt.ylabel(\"Count of Ratings\")"
   ]
  },
  {
   "cell_type": "code",
   "execution_count": 96,
   "metadata": {},
   "outputs": [],
   "source": [
    "# filtering for movies with over 10 ratings\n",
    "ratings_count = df_ratings_ratings.groupby(\"movieId\")[\"rating\"].count()\n",
    "movies_with_10_plus_ratings = ratings_count[ratings_count > 10].index\n",
    "filtered_ratings = df_ratings_ratings[df_ratings_ratings[\"movieId\"].isin(movies_with_10_plus_ratings)].copy()\n",
    "\n",
    "# taking the mean of each movie's rating\n",
    "mean_ratings = filtered_ratings.groupby(\"movieId\").mean()\n",
    "\n",
    "# making the mean of each movie's rating an increment of 0.5\n",
    "# mean_ratings[\"rating\"] = filtered_ratings[\"rating\"].apply(lambda x: round(x*2)/2)\n",
    "mean_ratings = mean_ratings.reset_index()"
   ]
  },
  {
   "cell_type": "code",
   "execution_count": 97,
   "metadata": {},
   "outputs": [
    {
     "name": "stdout",
     "output_type": "stream",
     "text": [
      "There are 14073 unique movies in our movies dataset that have ratings given by the found dataset.\n"
     ]
    }
   ],
   "source": [
    "# further cleaning of the ratings dataset is required before merging to the movies metadata\n",
    "mean_ratings = mean_ratings.drop('userId', axis=1)\n",
    "mean_ratings = mean_ratings.rename({'rating': 'mean_rating', 'timestamp': 'mean_rating_timestamp'}, axis=1)\n",
    "\n",
    "# merging the average ratings to their movies through df_ratings_link\n",
    "df_ratings_linked = pd.merge(df_ratings_link, mean_ratings, left_on='movieId', right_on='movieId')\n",
    "\n",
    "# merging the ratings to df_movies_tmdb\n",
    "df_movies_tmdb_ratings = pd.merge(df_movies_tmdb, df_ratings_linked, left_on='imdb_id', right_on='imdbId')\n",
    "\n",
    "unique_ratings = len(df_movies_tmdb_ratings[\"title\"].unique())\n",
    "print(f\"There are {unique_ratings} unique movies in our movies dataset that have ratings given by the found dataset.\")"
   ]
  },
  {
   "cell_type": "code",
   "execution_count": 98,
   "metadata": {},
   "outputs": [],
   "source": [
    "# dropping many useless columns\n",
    "df_movies_tmdb_ratings = df_movies_tmdb_ratings.drop(['id'], axis = 1)\n",
    "df_movies_tmdb_ratings = df_movies_tmdb_ratings.drop(['status'], axis = 1)\n",
    "df_movies_tmdb_ratings = df_movies_tmdb_ratings.drop(['vote_average'], axis = 1)\n",
    "df_movies_tmdb_ratings = df_movies_tmdb_ratings.drop(['vote_count'], axis = 1)\n",
    "df_movies_tmdb_ratings = df_movies_tmdb_ratings.drop(['backdrop_path'], axis = 1)\n",
    "df_movies_tmdb_ratings = df_movies_tmdb_ratings.drop(['homepage'], axis = 1)\n",
    "df_movies_tmdb_ratings = df_movies_tmdb_ratings.drop(['original_title'], axis = 1)\n",
    "df_movies_tmdb_ratings = df_movies_tmdb_ratings.drop(['overview'], axis = 1)\n",
    "df_movies_tmdb_ratings = df_movies_tmdb_ratings.drop(['popularity'], axis = 1)\n",
    "df_movies_tmdb_ratings = df_movies_tmdb_ratings.drop(['poster_path'], axis = 1)\n",
    "df_movies_tmdb_ratings = df_movies_tmdb_ratings.drop(['tagline'], axis = 1)\n",
    "df_movies_tmdb_ratings = df_movies_tmdb_ratings.drop(['keywords'], axis = 1)\n",
    "df_movies_tmdb_ratings = df_movies_tmdb_ratings.drop(['movieId'], axis = 1)\n",
    "df_movies_tmdb_ratings = df_movies_tmdb_ratings.drop(['imdbId'], axis = 1)\n",
    "df_movies_tmdb_ratings = df_movies_tmdb_ratings.drop(['tmdbId'], axis = 1)\n",
    "df_movies_tmdb_ratings = df_movies_tmdb_ratings.drop(['adult'], axis = 1)\n",
    "df_movies_tmdb_ratings = df_movies_tmdb_ratings.drop(['production_countries'], axis = 1)"
   ]
  },
  {
   "cell_type": "code",
   "execution_count": 99,
   "metadata": {},
   "outputs": [],
   "source": [
    "# replacing the runtime outliers with mean of non-outliers, assuming normality, apply +/- t*IQR of quantiles method\n",
    "df_movies_tmdb_ratings = filling.fill_iqr(df_movies_tmdb_ratings, 'runtime', 3.5)"
   ]
  },
  {
   "cell_type": "code",
   "execution_count": 100,
   "metadata": {},
   "outputs": [],
   "source": [
    "# exploding df_movies_tmdb_ratings genres to retrieve most relevant ones -> Jake added, below, cleaning of the genres to avoid redundancy\n",
    "df_movies_tmdb_ratings_exploded = df_movies_tmdb_ratings.explode(\"genres\")\n",
    "\n",
    "# making every genre's text uniform to assess unique genres\n",
    "df_movies_tmdb_ratings_exploded[\"genres\"] = df_movies_tmdb_ratings_exploded[\"genres\"].str.lower()\n",
    "\n",
    "# removing redundant verbiage for genres\n",
    "df_movies_tmdb_ratings_exploded[\"genres\"] = df_movies_tmdb_ratings_exploded[\"genres\"].str.replace(\" film\", \"\")\n",
    "df_movies_tmdb_ratings_exploded[\"genres\"] = df_movies_tmdb_ratings_exploded[\"genres\"].str.replace(\" movies\", \"\")\n",
    "\n",
    "# fixing some genres being as lists\n",
    "df_movies_tmdb_ratings_exploded[\"genres\"] = df_movies_tmdb_ratings_exploded[\"genres\"].map(str)\n",
    "df_movies_tmdb_ratings_exploded[\"genres\"] = df_movies_tmdb_ratings_exploded[\"genres\"].str.replace(\"[\", \"\")\n",
    "df_movies_tmdb_ratings_exploded[\"genres\"] = df_movies_tmdb_ratings_exploded[\"genres\"].str.replace(\"]\", \"\")\n",
    "df_movies_tmdb_ratings_exploded[\"genres\"] = df_movies_tmdb_ratings_exploded[\"genres\"].str.replace(\"'\", \"\")\n",
    "df_movies_tmdb_ratings_exploded[\"genres\"] = df_movies_tmdb_ratings_exploded[\"genres\"].str.replace('\"', \"\")"
   ]
  },
  {
   "cell_type": "code",
   "execution_count": 101,
   "metadata": {},
   "outputs": [],
   "source": [
    "# find and sort number of movies for each exploded genre\n",
    "genres_counts = df_movies_tmdb_ratings_exploded.groupby(\"genres\").size()\n",
    "genres_counts = genres_counts.sort_values(axis=0, ascending=False)\n",
    "\n",
    "# searching most relevant genres as the ones that correspond to 90% of the total data\n",
    "genres_proportions = genres_counts.cumsum() / genres_counts.sum()\n",
    "n = len(genres_proportions[genres_proportions < 0.9])\n",
    "genres_relevant = genres_proportions.head(n).index.tolist()"
   ]
  },
  {
   "cell_type": "code",
   "execution_count": 102,
   "metadata": {},
   "outputs": [],
   "source": [
    "# splitting single and multi-genres\n",
    "df_movies_tmdb_ratings_multi = df_movies_tmdb_ratings[df_movies_tmdb_ratings['genres'].apply(len) > 1]\n",
    "df_movies_tmdb_ratings = df_movies_tmdb_ratings[df_movies_tmdb_ratings['genres'].apply(len) == 1]\n",
    "\n",
    "# selecting exploded movies whose genres are among the most relevant ones -> Jake added further cleaning of genres before choosing the most relevant ones\n",
    "df_movies_tmdb_ratings_multi = df_movies_tmdb_ratings_multi.explode('genres')\n",
    "\n",
    "df_movies_tmdb_ratings_multi[\"genres\"] = df_movies_tmdb_ratings_multi[\"genres\"].str.lower()\n",
    "\n",
    "df_movies_tmdb_ratings_multi[\"genres\"] = df_movies_tmdb_ratings_multi[\"genres\"].str.replace(\" film\", \"\")\n",
    "df_movies_tmdb_ratings_multi[\"genres\"] = df_movies_tmdb_ratings_multi[\"genres\"].str.replace(\" movies\", \"\")\n",
    "\n",
    "df_movies_tmdb_ratings_multi[\"genres\"] = df_movies_tmdb_ratings_multi[\"genres\"].map(str)\n",
    "df_movies_tmdb_ratings_multi[\"genres\"] = df_movies_tmdb_ratings_multi[\"genres\"].str.replace(\"[\", \"\")\n",
    "df_movies_tmdb_ratings_multi[\"genres\"] = df_movies_tmdb_ratings_multi[\"genres\"].str.replace(\"]\", \"\")\n",
    "df_movies_tmdb_ratings_multi[\"genres\"] = df_movies_tmdb_ratings_multi[\"genres\"].str.replace(\"'\", \"\")\n",
    "df_movies_tmdb_ratings_multi[\"genres\"] = df_movies_tmdb_ratings_multi[\"genres\"].str.replace('\"', \"\")\n",
    "\n",
    "df_movies_tmdb_ratings_multi = df_movies_tmdb_ratings_multi[df_movies_tmdb_ratings_multi['genres'].isin(genres_relevant)]\n",
    "\n",
    "# cleaning the single genre movies' genres\n",
    "df_movies_tmdb_ratings[\"genres\"] = df_movies_tmdb_ratings[\"genres\"].map(str)\n",
    "df_movies_tmdb_ratings[\"genres\"] = df_movies_tmdb_ratings[\"genres\"].str.lower()\n",
    "\n",
    "df_movies_tmdb_ratings[\"genres\"] = df_movies_tmdb_ratings[\"genres\"].str.replace(\" film\", \"\")\n",
    "df_movies_tmdb_ratings[\"genres\"] = df_movies_tmdb_ratings[\"genres\"].str.replace(\" movies\", \"\")\n",
    "\n",
    "df_movies_tmdb_ratings[\"genres\"] = df_movies_tmdb_ratings[\"genres\"].map(str)\n",
    "df_movies_tmdb_ratings[\"genres\"] = df_movies_tmdb_ratings[\"genres\"].str.replace(\"[\", \"\")\n",
    "df_movies_tmdb_ratings[\"genres\"] = df_movies_tmdb_ratings[\"genres\"].str.replace(\"]\", \"\")\n",
    "df_movies_tmdb_ratings[\"genres\"] = df_movies_tmdb_ratings[\"genres\"].str.replace(\"'\", \"\")\n",
    "df_movies_tmdb_ratings[\"genres\"] = df_movies_tmdb_ratings[\"genres\"].str.replace('\"', \"\")\n",
    "\n",
    "# joining the dataframes\n",
    "df_movies_tmdb_ratings = pd.concat([df_movies_tmdb_ratings, df_movies_tmdb_ratings_multi], ignore_index=True)\n",
    "\n",
    "# converting 'genres' column type\n",
    "df_movies_tmdb_ratings['genres'] = df_movies_tmdb_ratings['genres'].astype(str)"
   ]
  },
  {
   "cell_type": "code",
   "execution_count": 103,
   "metadata": {},
   "outputs": [
    {
     "name": "stdout",
     "output_type": "stream",
     "text": [
      "The mean number of countries of a given movie is:  2\n"
     ]
    },
    {
     "data": {
      "image/png": "[encoded data removed]",
      "text/plain": [
       "<Figure size 800x600 with 1 Axes>"
      ]
     },
     "metadata": {},
     "output_type": "display_data"
    }
   ],
   "source": [
    "# dropping missing 'countries' entries\n",
    "df_movies_tmdb_ratings.dropna(subset=['countries'], inplace=True)\n",
    "\n",
    "# getting the mean\n",
    "print(f'The mean number of countries of a given movie is: ', math.ceil(df_movies_tmdb_ratings['countries'].apply(len).mean()))\n",
    "\n",
    "# plotting the distribution\n",
    "n_countries = df_movies_tmdb_ratings['countries'].apply(len)\n",
    "plt.figure(figsize=(8, 6))\n",
    "plt.hist(n_countries, bins=range(1, max(n_countries) + 2), edgecolor='black', alpha=0.7)\n",
    "plt.title('Distribution of Number of Countries')\n",
    "plt.xlabel('Number of Countries')\n",
    "plt.ylabel('Frequency')\n",
    "plt.grid(True)"
   ]
  },
  {
   "cell_type": "code",
   "execution_count": 104,
   "metadata": {},
   "outputs": [],
   "source": [
    "# exploding countries\n",
    "df_movies_tmdb_ratings = df_movies_tmdb_ratings.explode('countries')"
   ]
  },
  {
   "cell_type": "code",
   "execution_count": 105,
   "metadata": {},
   "outputs": [],
   "source": [
    "# final ordering of the standard dataframe\n",
    "df_movies_tmdb_ratings = df_movies_tmdb_ratings.sort_values(by='title')\n",
    "\n",
    "# in the 'revenue' column, substitute 0.0 with nan for clarity\n",
    "df_movies_tmdb_ratings['revenue'] = df_movies_tmdb_ratings['revenue'].replace(0.0, None)\n",
    "\n",
    "# convert 'revenue' column to numeric values, raise error message in case of problems\n",
    "df_movies_tmdb_ratings['revenue'] = pd.to_numeric(df_movies_tmdb_ratings['revenue'], errors='coerce')"
   ]
  },
  {
   "cell_type": "code",
   "execution_count": 106,
   "metadata": {},
   "outputs": [],
   "source": [
    "# in the 'budget' column, substitute 0.0 with nan for clarity\n",
    "df_movies_tmdb_ratings['budget'] = df_movies_tmdb_ratings['budget'].replace(0.0, None)"
   ]
  },
  {
   "cell_type": "code",
   "execution_count": 107,
   "metadata": {},
   "outputs": [
    {
     "name": "stdout",
     "output_type": "stream",
     "text": [
      "There are now 13889 unique movies in the standard movies dataset.\n",
      "There were 79347 unique movies in the initial movies dataset.\n"
     ]
    }
   ],
   "source": [
    "unique_titles_now = len(df_movies_tmdb_ratings['title'].unique())\n",
    "unique_titles_before = len(df_movies)\n",
    "print(f\"There are now {unique_titles_now} unique movies in the standard movies dataset.\")\n",
    "print(f\"There were {unique_titles_before} unique movies in the initial movies dataset.\")"
   ]
  },
  {
   "cell_type": "code",
   "execution_count": 108,
   "metadata": {},
   "outputs": [],
   "source": [
    "# deleting not used dataframes (but keeping the original ones)\n",
    "del df_movies_tmdb\n",
    "del df_movies_tmdb_ratings_exploded\n",
    "del df_movies_tmdb_ratings_multi\n",
    "del df_ratings_linked"
   ]
  },
  {
   "cell_type": "markdown",
   "metadata": {},
   "source": [
    "# Historical Proximity Score"
   ]
  },
  {
   "cell_type": "markdown",
   "metadata": {},
   "source": [
    "The dataframe must be filled manually. Entries are in range from -1 to 1. \n",
    "Taking into account that a movie takes minimum a year to produce (in general), if a meaningful historical event happens, a score of 1 is given to the exact year of the event and the year later, then the score lowers by 0.2 each year. Therefore, an historical event has a decreasing impact on movies for the next 5 years. If the event is positive, the score is positive, viceversa if the event is negative. Events for each country are asked to ChatGPT."
   ]
  },
  {
   "cell_type": "code",
   "execution_count": 109,
   "metadata": {},
   "outputs": [
    {
     "name": "stdout",
     "output_type": "stream",
     "text": [
      "Script ran successfully.\n"
     ]
    }
   ],
   "source": [
    "# saving df_movies_tmdb_ratings as a pickle file\n",
    "output_path = Path(\"src/scripts/df_movies_tmdb_ratings.pkl\")\n",
    "df_movies_tmdb_ratings.to_pickle(output_path)\n",
    "\n",
    "# running historical_proximity.py script\n",
    "result = subprocess.run([\"python\", \"src/scripts/historical_proximity.py\"], capture_output=True, text=True)\n",
    "\n",
    "# if the script failed, print the error message\n",
    "if result.returncode != 0:\n",
    "    print(\"Error occurred:\")\n",
    "    print(result.stderr)\n",
    "else:\n",
    "    print(\"Script ran successfully.\")\n",
    "\n",
    "# loading historical_proximity_score\n",
    "historical_proximity_score = pd.read_pickle(\"src/scripts/historical_proximity_score.pkl\")"
   ]
  },
  {
   "cell_type": "code",
   "execution_count": 110,
   "metadata": {},
   "outputs": [
    {
     "name": "stdout",
     "output_type": "stream",
     "text": [
      "No rows with only zeros.\n"
     ]
    }
   ],
   "source": [
    "# checking if there are any rows with only zeros\n",
    "rows_with_zeros = historical_proximity_score.loc[(historical_proximity_score == 0).all(axis=1)]\n",
    "\n",
    "if not rows_with_zeros.empty:\n",
    "    print(\"There are rows with only zeros.\")\n",
    "else:\n",
    "    print(\"No rows with only zeros.\")"
   ]
  },
  {
   "cell_type": "code",
   "execution_count": 111,
   "metadata": {},
   "outputs": [],
   "source": [
    "# adding historical_proximity_score column\n",
    "df_movies_tmdb_ratings['historical_proximity_score'] = df_movies_tmdb_ratings.apply(\n",
    "    lambda row: add_features.get_historical_proximity_score(row, historical_proximity_score), axis=1\n",
    ")"
   ]
  },
  {
   "cell_type": "markdown",
   "metadata": {},
   "source": [
    "Adding genre complexity score"
   ]
  },
  {
   "cell_type": "code",
   "execution_count": 112,
   "metadata": {},
   "outputs": [],
   "source": [
    "# defining unique_genres_per_movie series\n",
    "unique_genres_per_movie = (\n",
    "    df_movies_tmdb_ratings.explode('genres') \n",
    "    .groupby('title')['genres'].nunique()\n",
    ")\n",
    "\n",
    "# get_genre_complexity_score() call\n",
    "complexity_dict = add_features.get_genre_complexity_score(unique_genres_per_movie)\n",
    "\n",
    "# new dataframe column\n",
    "df_movies_tmdb_ratings['genre_complexity_score'] = df_movies_tmdb_ratings['title'].map(complexity_dict)"
   ]
  },
  {
   "cell_type": "markdown",
   "metadata": {},
   "source": [
    "# Additional pre-processing\n",
    "\n",
    "Before proceeding with the decision tree model, the region column will be added to the dataframe."
   ]
  },
  {
   "cell_type": "code",
   "execution_count": 113,
   "metadata": {},
   "outputs": [],
   "source": [
    "# map_regions() call\n",
    "country_to_region = add_features.map_regions(regions)\n",
    "\n",
    "# mapping the 'countries' column to the 'region' column\n",
    "df_movies_tmdb_ratings['region'] = df_movies_tmdb_ratings['countries'].map(country_to_region)\n",
    "\n",
    "# since df_movies_tmdb_ratings[df_movies_tmdb_ratings['continent'].isna()] shows that 2 entries\n",
    "# have not been assigned to a continent, a quick check allows to see that this is due to an error \n",
    "# in the country (the specific movie is 'The Flying Scotsman'). These entries are therefore dropped.\n",
    "df_movies_tmdb_ratings = df_movies_tmdb_ratings.dropna(subset=['region'])"
   ]
  },
  {
   "cell_type": "code",
   "execution_count": 114,
   "metadata": {},
   "outputs": [],
   "source": [
    "df_movies_tmdb_ratings_unique = cleaning.drop_most_missing(df_movies_tmdb_ratings, ['title'])\n",
    "\n",
    "# drop 'missing_values' column of df_movies_tmdb_ratings\n",
    "df_movies_tmdb_ratings = df_movies_tmdb_ratings.drop(columns=['missing_values'])\n",
    "\n",
    "# dropping duplicates (just in case there are any duplicates after the selection process)\n",
    "df_movies_tmdb_ratings_unique = df_movies_tmdb_ratings_unique.drop_duplicates(subset='title')"
   ]
  },
  {
   "cell_type": "code",
   "execution_count": 115,
   "metadata": {},
   "outputs": [],
   "source": [
    "# keeping top 20 clean genres for the decision tree model\n",
    "genres_total = df_movies_tmdb_ratings.groupby(\"genres\").count().sort_values(\"wikipedia_id\", ascending=False).reset_index()\n",
    "\n",
    "# extracting top 20 genres\n",
    "top_20_genres = genres_total.loc[:19, \"genres\"]\n",
    "\n",
    "# defining new top 20 genres dataframe\n",
    "df_movies_tmdb_ratings_top20genres = df_movies_tmdb_ratings[df_movies_tmdb_ratings[\"genres\"].isin(top_20_genres)]\n",
    "\n",
    "# resetting indexes\n",
    "df_movies_tmdb_ratings_top20genres = df_movies_tmdb_ratings_top20genres.reset_index(drop=True)"
   ]
  },
  {
   "cell_type": "code",
   "execution_count": 116,
   "metadata": {},
   "outputs": [],
   "source": [
    "# Binning mean ratings\n",
    "bins = [0, 0.5, 1, 1.5, 2, 2.5, 3, 3.5, 4, 4.5, 5]\n",
    "labels = [0, 0.5, 1, 1.5, 2, 2.5, 3, 3.5, 4, 4.5]\n",
    "\n",
    "# Creating new column with .loc to avoid SettingWithCopyWarning\n",
    "df_movies_tmdb_ratings_top20genres.loc[:, 'binned_rating'] = pd.cut(\n",
    "    df_movies_tmdb_ratings_top20genres['mean_rating'],\n",
    "    bins=bins,\n",
    "    labels=labels,\n",
    "    right=False\n",
    ")"
   ]
  },
  {
   "cell_type": "markdown",
   "metadata": {},
   "source": [
    "# Decision Tree Model"
   ]
  },
  {
   "cell_type": "code",
   "execution_count": 117,
   "metadata": {},
   "outputs": [
    {
     "name": "stderr",
     "output_type": "stream",
     "text": [
      "c:\\Users\\bosca\\anaconda3\\envs\\ada\\Lib\\site-packages\\sklearn\\preprocessing\\_label.py:114: DataConversionWarning: A column-vector y was passed when a 1d array was expected. Please change the shape of y to (n_samples, ), for example using ravel().\n",
      "  y = column_or_1d(y, warn=True)\n"
     ]
    }
   ],
   "source": [
    "from sklearn.preprocessing import LabelEncoder\n",
    "\n",
    "# aggregating repeated movies to consider only mode of features (to avoid potential bias)\n",
    "data = df_movies_tmdb_ratings_top20genres.groupby('title').agg({\n",
    "    'release_date': lambda x: x.mode()[0],\n",
    "    'revenue': 'mean',\n",
    "    'runtime': 'mean',\n",
    "    'genres': lambda x: x.mode()[0],\n",
    "    'budget': 'mean',\n",
    "    'historical_proximity_score': 'mean',\n",
    "    'genre_complexity_score': 'mean',\n",
    "    'region': lambda x: x.mode()[0],\n",
    "    'binned_rating': lambda x: x.mode()[0]\n",
    "}).reset_index()\n",
    "\n",
    "# keeping only some features and specifing the target variable\n",
    "features = df_movies_tmdb_ratings_top20genres[\n",
    "    [\n",
    "        'release_date',\n",
    "        'revenue',\n",
    "        'runtime',\n",
    "        'genres',\n",
    "        'budget',\n",
    "        'historical_proximity_score',\n",
    "        'genre_complexity_score',\n",
    "        'region',\n",
    "    ]\n",
    "]\n",
    "\n",
    "target = df_movies_tmdb_ratings_top20genres[['binned_rating']]\n",
    "\n",
    "# encoding target variable to discrete classes\n",
    "encoder = LabelEncoder()\n",
    "target = encoder.fit_transform(target)"
   ]
  },
  {
   "cell_type": "code",
   "execution_count": 118,
   "metadata": {},
   "outputs": [],
   "source": [
    "# one-hot encoding of some features (no dropping of the first column)\n",
    "features = pd.get_dummies(features, columns=['genres', 'region'], drop_first=True)\n",
    "#features = pd.get_dummies(features, columns=['region'], drop_first=True)\n",
    "#features = pd.get_dummies(features, columns=['genres'], drop_first=True)"
   ]
  },
  {
   "cell_type": "code",
   "execution_count": null,
   "metadata": {},
   "outputs": [
    {
     "name": "stdout",
     "output_type": "stream",
     "text": [
      "The number of samples in the train dataset is: 63460\n",
      "The number of samples in the test dataset is: 7052\n"
     ]
    }
   ],
   "source": [
    "from sklearn.model_selection import train_test_split\n",
    "\n",
    "# train-test split 80-20 ratio\n",
    "df_train, df_test, df_train_target, df_test_target = train_test_split(\n",
    "    features, \n",
    "    target, \n",
    "    test_size=0.2, \n",
    "    random_state=42\n",
    ")\n",
    "\n",
    "# The final number of values in the resulting training and testing dataframes is required\n",
    "print(f'The number of samples in the train dataset is: {len(df_train)}')\n",
    "print(f'The number of samples in the test dataset is: {len(df_test)}')"
   ]
  },
  {
   "cell_type": "code",
   "execution_count": 120,
   "metadata": {},
   "outputs": [],
   "source": [
    "from sklearn.tree import DecisionTreeClassifier\n",
    "\n",
    "# DecisionTreeClassifier call\n",
    "decision_tree = DecisionTreeClassifier(random_state=42).fit(df_train, df_train_target)"
   ]
  },
  {
   "cell_type": "code",
   "execution_count": 121,
   "metadata": {},
   "outputs": [
    {
     "name": "stdout",
     "output_type": "stream",
     "text": [
      "The depth of the decision tree is: 48\n"
     ]
    }
   ],
   "source": [
    "# predicting test set\n",
    "target_predict = decision_tree.predict(df_test)\n",
    "\n",
    "# printing depth of the tree\n",
    "D = decision_tree.get_depth()\n",
    "print(f'The depth of the decision tree is: {D}')"
   ]
  },
  {
   "cell_type": "code",
   "execution_count": 122,
   "metadata": {},
   "outputs": [
    {
     "name": "stdout",
     "output_type": "stream",
     "text": [
      "              precision    recall  f1-score   support\n",
      "\n",
      "           1       0.57      0.57      0.57         7\n",
      "           2       0.76      0.78      0.77        85\n",
      "           3       0.80      0.78      0.79       425\n",
      "           4       0.84      0.85      0.84      1451\n",
      "           5       0.89      0.90      0.89      2861\n",
      "           6       0.89      0.88      0.88      2100\n",
      "           7       0.88      0.87      0.88       123\n",
      "\n",
      "    accuracy                           0.87      7052\n",
      "   macro avg       0.80      0.80      0.80      7052\n",
      "weighted avg       0.87      0.87      0.87      7052\n",
      "\n"
     ]
    }
   ],
   "source": [
    "from sklearn.metrics import classification_report\n",
    "\n",
    "# evaluating metrics\n",
    "print(classification_report(df_test_target, target_predict))"
   ]
  },
  {
   "cell_type": "code",
   "execution_count": 123,
   "metadata": {},
   "outputs": [
    {
     "name": "stdout",
     "output_type": "stream",
     "text": [
      "The best depth in terms of accuracy is: 42\n"
     ]
    },
    {
     "data": {
      "image/png": "[encoded data removed]",
      "text/plain": [
       "<Figure size 1000x600 with 1 Axes>"
      ]
     },
     "metadata": {},
     "output_type": "display_data"
    }
   ],
   "source": [
    "from sklearn.metrics import accuracy_score\n",
    "\n",
    "# searching D that maximizes accuracy of the model\n",
    "accuracies = np.zeros(D)\n",
    "\n",
    "for d in range(0, D):\n",
    "    decision_tree = DecisionTreeClassifier(max_depth=d+1, random_state=42).fit(df_train, df_train_target)\n",
    "\n",
    "    # predicting outcomes\n",
    "    target_predict = decision_tree.predict(df_test)\n",
    "    accuracies[d] = accuracy_score(df_test_target, target_predict)\n",
    "\n",
    "# plotting results\n",
    "plt.figure(figsize=(10, 6))\n",
    "plt.plot(range(1, D+1), accuracies,  '-', color='forestgreen')\n",
    "plt.xlabel('Decision Tree Depth',  weight='bold')\n",
    "plt.ylabel('Accuracy',  weight='bold')\n",
    "plt.title('The Effect of Decision Tree Depth on Accuracy', weight='bold')\n",
    "plt.grid(True)\n",
    "\n",
    "# getting best tree depth\n",
    "best_acc = np.max(accuracies)\n",
    "best_d = np.where(accuracies == best_acc)[0]\n",
    "\n",
    "print(f'The best depth in terms of accuracy is: {best_d[0]+1}')"
   ]
  },
  {
   "cell_type": "code",
   "execution_count": 124,
   "metadata": {},
   "outputs": [
    {
     "name": "stdout",
     "output_type": "stream",
     "text": [
      "The number of samples in the train dataset is: 56409\n",
      "The number of samples in the test dataset is: 14103\n",
      "Accuracy: 0.772317946536198\n"
     ]
    }
   ],
   "source": [
    "from sklearn.ensemble import RandomForestClassifier\n",
    "\n",
    "# train-test split 80-20 ratio\n",
    "df_train, df_test, df_train_target, df_test_target = train_test_split(\n",
    "    features, \n",
    "    target, \n",
    "    test_size=0.2, \n",
    "    random_state=42\n",
    ")\n",
    "\n",
    "# The final number of values in the resulting training and testing dataframes is required\n",
    "print(f'The number of samples in the train dataset is: {len(df_train)}')\n",
    "print(f'The number of samples in the test dataset is: {len(df_test)}')\n",
    "\n",
    "# Create the model\n",
    "random_forest = RandomForestClassifier(n_estimators=100, random_state=42)\n",
    "\n",
    "# Train the model\n",
    "random_forest.fit(df_train, df_train_target)\n",
    "\n",
    "# prediction\n",
    "target_predict = random_forest.predict(df_test)\n",
    "\n",
    "# Accuracy\n",
    "accuracy = accuracy_score(df_test_target, target_predict)\n",
    "print(f\"Accuracy: {accuracy}\")"
   ]
  }
 ],
 "metadata": {
  "kernelspec": {
   "display_name": "ada",
   "language": "python",
   "name": "python3"
  },
  "language_info": {
   "codemirror_mode": {
    "name": "ipython",
    "version": 3
   },
   "file_extension": ".py",
   "mimetype": "text/x-python",
   "name": "python",
   "nbconvert_exporter": "python",
   "pygments_lexer": "ipython3",
   "version": "3.11.9"
  }
 },
 "nbformat": 4,
 "nbformat_minor": 2
}
