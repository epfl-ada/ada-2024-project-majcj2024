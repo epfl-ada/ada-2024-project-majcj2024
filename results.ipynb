{
 "cells": [
  {
   "cell_type": "code",
   "execution_count": 1,
   "metadata": {},
   "outputs": [],
   "source": [
    "# basic imports\n",
    "import os\n",
    "import pandas as pd\n",
    "import numpy as np\n",
    "import matplotlib.pyplot as plt\n",
    "import warnings\n",
    "import json\n",
    "import math\n",
    "import seaborn as sns\n",
    "\n",
    "# stats imports\n",
    "from scipy.stats import chi2_contingency\n",
    "from scipy.stats import ttest_ind\n",
    "from scipy.stats import kstest\n",
    "\n",
    "# regression imports\n",
    "from statsmodels.stats import diagnostic\n",
    "from scipy import stats\n",
    "import statsmodels.api as sm\n",
    "import statsmodels.formula.api as smf\n",
    "\n",
    "# src imports\n",
    "from src.utils import cleaning\n",
    "#from src.utils import tokenization\n",
    "from src.utils import filling\n",
    "#from src.data import words_clusters"
   ]
  },
  {
   "cell_type": "markdown",
   "metadata": {},
   "source": [
    "# DATA LOADING"
   ]
  },
  {
   "cell_type": "code",
   "execution_count": 2,
   "metadata": {},
   "outputs": [],
   "source": [
    "# data path\n",
    "DATA = './data/'\n",
    "\n",
    "# movie metadata loading\n",
    "df_movies = pd.read_csv(DATA + 'movie.metadata.tsv', sep='\\t', header=None)\n",
    "df_movies.columns = ['wikipedia_id', 'freebase_id', 'title', 'release_date', 'revenue', \n",
    "                     'runtime', 'spoken_languages', 'countries', 'genres']\n",
    "\n",
    "# charcaters metadata loading\n",
    "df_characters = pd.read_csv(DATA + 'character.metadata.tsv', sep='\\t', header=None)\n",
    "df_characters.columns = ['wikipedia_id', 'freebase_id', 'release_date', 'character_name', 'actor_birth',\n",
    "                     'actor_gender', 'actor_height', 'actor_ethnicity', 'actor_name', \n",
    "                     'age_at_release', 'freebase_map', 'freebase_character_id', 'freebase_actor_id']\n",
    "\n",
    "# plot summaries loading\n",
    "df_plots = pd.read_csv(DATA + 'plot_summaries.txt', sep='\\t', header=None, names=['wikipedia_id', 'plot_summary'])\n",
    "\n",
    "# TMDB dataset loading\n",
    "df_tmdb = pd.read_csv(DATA + 'TMDB_movie_dataset_v11.csv')\n",
    "\n",
    "# ratings datasets loading\n",
    "df_ratings_movies = pd.read_csv(DATA + 'ratings_movies.csv', sep=',')\n",
    "df_ratings_link = pd.read_csv(DATA + 'ratings_links.csv', sep=',')\n",
    "df_ratings_ratings = pd.read_csv(DATA + 'ratings_ratings.csv', sep=',')"
   ]
  },
  {
   "cell_type": "markdown",
   "metadata": {},
   "source": [
    "# DATA MERGING & CLEANING - Movies Dataset"
   ]
  },
  {
   "cell_type": "code",
   "execution_count": 3,
   "metadata": {},
   "outputs": [],
   "source": [
    "# df_movies has duplicates of the same movies which will be discarded based on keeping  \n",
    "# the entry that has the least number of missing values among the other columns\n",
    "df_movies['missing_values'] = df_movies.isnull().sum(axis=1)\n",
    "\n",
    "# for each title, find the row with the least missing values\n",
    "df_movies = df_movies.loc[df_movies.groupby('title')['missing_values'].idxmin()]\n",
    "\n",
    "# dropping 'missing_values' column\n",
    "df_movies = df_movies.drop(columns=['missing_values'])"
   ]
  },
  {
   "cell_type": "code",
   "execution_count": 4,
   "metadata": {},
   "outputs": [],
   "source": [
    "# doing the same duplicates cleaning as before for df_tmdb\n",
    "df_tmdb['missing_values'] = df_tmdb.isnull().sum(axis=1)\n",
    "\n",
    "# for each title, find the row with the least missing values\n",
    "df_tmdb = df_tmdb.loc[df_tmdb.groupby('title')['missing_values'].idxmin()]\n",
    "\n",
    "# dropping 'missing_values' column\n",
    "df_tmdb = df_tmdb.drop(columns=['missing_values'])"
   ]
  },
  {
   "cell_type": "code",
   "execution_count": 5,
   "metadata": {},
   "outputs": [],
   "source": [
    "# merging df_movies and df_tmdb\n",
    "df_movies_tmdb = pd.merge(df_movies, df_tmdb, on='title')\n",
    "\n",
    "# drop some duplicate columns and then rename\n",
    "df_movies_tmdb = df_movies_tmdb.drop(['spoken_languages_y'], axis = 1).rename(columns={'spoken_languages_x': 'spoken_languages'}) \n",
    "df_movies_tmdb = df_movies_tmdb.drop(['genres_y'], axis = 1).rename(columns={'genres_x': 'genres'}) "
   ]
  },
  {
   "cell_type": "code",
   "execution_count": 6,
   "metadata": {},
   "outputs": [],
   "source": [
    "# cleaning 'spoken_languages', 'countries', 'genres' df_movies columns in df_movies_tmdb\n",
    "df_movies_tmdb['spoken_languages'] = df_movies_tmdb['spoken_languages'].apply(cleaning.clean_idxs)\n",
    "df_movies_tmdb['countries'] = df_movies_tmdb['countries'].apply(cleaning.clean_idxs)\n",
    "df_movies_tmdb['genres'] = df_movies_tmdb['genres'].apply(cleaning.clean_idxs)"
   ]
  },
  {
   "cell_type": "code",
   "execution_count": 7,
   "metadata": {},
   "outputs": [],
   "source": [
    "# use the release date of the TMDB dataset to fill the release date of a movie if not present in CMU dataset\n",
    "df_movies_tmdb['release_date_x'] = df_movies_tmdb['release_date_x'].fillna(df_movies_tmdb['release_date_y'])\n",
    "\n",
    "# drop missing release dates, remove duplicate column and rename release_date_x\n",
    "df_movies_tmdb = df_movies_tmdb.dropna(subset=['release_date_x'])\n",
    "df_movies_tmdb = df_movies_tmdb.drop(['release_date_y'], axis = 1)\n",
    "df_movies_tmdb = df_movies_tmdb.rename(columns={'release_date_x': \"release_date\"}) \n",
    "\n",
    "# clean dates to keep the release year only (first four digits of the attribute)\n",
    "df_movies_tmdb['release_date'] = df_movies_tmdb['release_date'].apply(cleaning.clean_dates)"
   ]
  },
  {
   "cell_type": "code",
   "execution_count": 8,
   "metadata": {},
   "outputs": [],
   "source": [
    "# use the revenues of the TMDB dataset to fill the revenues of a movie if not present in CMU dataset\n",
    "df_movies_tmdb['revenue_x'] = df_movies_tmdb['revenue_x'].fillna(df_movies_tmdb['revenue_y'])\n",
    "\n",
    "# remove duplicate column and rename revenue_x\n",
    "df_movies_tmdb = df_movies_tmdb.drop(['revenue_y'], axis = 1)\n",
    "df_movies_tmdb = df_movies_tmdb.rename(columns={'revenue_x': \"revenue\"}) "
   ]
  },
  {
   "cell_type": "code",
   "execution_count": 9,
   "metadata": {},
   "outputs": [],
   "source": [
    "# use the runtimes of the TMDB dataset to fill the runtimes of a movie if not present in CMU dataset\n",
    "df_movies_tmdb['runtime_x'] = df_movies_tmdb['runtime_x'].fillna(df_movies_tmdb['runtime_y'])\n",
    "\n",
    "# remove duplicate column and rename runtime_x\n",
    "df_movies_tmdb = df_movies_tmdb.drop(['runtime_y'], axis = 1)\n",
    "df_movies_tmdb = df_movies_tmdb.rename(columns={'runtime_x': \"runtime\"}) "
   ]
  },
  {
   "cell_type": "code",
   "execution_count": 10,
   "metadata": {},
   "outputs": [],
   "source": [
    "# remove movies with no genre reported\n",
    "df_movies_tmdb = df_movies_tmdb.dropna(subset=['genres'])"
   ]
  },
  {
   "cell_type": "code",
   "execution_count": 11,
   "metadata": {},
   "outputs": [],
   "source": [
    "# remove ' (yyyy)' from df_ratings_movies titles including any white spaces before parenthesis\n",
    "df_ratings_movies['title'] = df_ratings_movies['title'].apply(cleaning.clean_titles)"
   ]
  },
  {
   "cell_type": "markdown",
   "metadata": {},
   "source": [
    "`df_ratings_movies` might not be used"
   ]
  },
  {
   "cell_type": "code",
   "execution_count": 12,
   "metadata": {},
   "outputs": [],
   "source": [
    "# dropping movies that have missing IMDB IDs\n",
    "df_movies_tmdb = df_movies_tmdb.dropna(subset=[\"imdb_id\"])\n",
    "df_movies_tmdb = df_movies_tmdb.drop(df_movies_tmdb[df_movies_tmdb[\"imdb_id\"] == 'nan'].index)\n",
    "\n",
    "# IMDB references in df_movies_tmdb are formatted differently than in df_ratings_link\n",
    "df_movies_tmdb['imdb_id'] = df_movies_tmdb['imdb_id'].apply(cleaning.clean_imdb)"
   ]
  },
  {
   "cell_type": "code",
   "execution_count": 13,
   "metadata": {},
   "outputs": [
    {
     "name": "stdout",
     "output_type": "stream",
     "text": [
      "There are 24056 unique movies in our movies dataset that have ratings given by the found dataset.\n"
     ]
    }
   ],
   "source": [
    "# retrieving mean ratings\n",
    "mean_ratings = df_ratings_ratings.groupby(df_ratings_ratings[\"movieId\"]).mean()\n",
    "mean_ratings = mean_ratings.drop('userId', axis=1)\n",
    "mean_ratings = mean_ratings.rename({'rating': 'mean_rating', 'timestamp': 'mean_rating_timestamp'}, axis=1)\n",
    "\n",
    "# merging the average ratings to their movies through df_ratings_link\n",
    "df_ratings_linked = pd.merge(df_ratings_link, mean_ratings, left_on='movieId', right_on='movieId')\n",
    "\n",
    "# merging the ratings to df_movies_tmdb\n",
    "df_movies_tmdb_ratings = pd.merge(df_movies_tmdb, df_ratings_linked, left_on='imdb_id', right_on='imdbId')\n",
    "\n",
    "unique_ratings = len(df_movies_tmdb_ratings[\"title\"].unique())\n",
    "print(f\"There are {unique_ratings} unique movies in our movies dataset that have ratings given by the found dataset.\")"
   ]
  },
  {
   "cell_type": "code",
   "execution_count": 14,
   "metadata": {},
   "outputs": [],
   "source": [
    "# binning ratings to match viewers regular rating style (.5 vote scale)\n",
    "df_movies_tmdb_ratings['mean_rating_binned'] = df_movies_tmdb_ratings.mean_rating.mul(2).round().div(2)"
   ]
  },
  {
   "cell_type": "code",
   "execution_count": 15,
   "metadata": {},
   "outputs": [],
   "source": [
    "# dropping many useless columns\n",
    "df_movies_tmdb_ratings = df_movies_tmdb_ratings.drop(['id'], axis = 1)\n",
    "df_movies_tmdb_ratings = df_movies_tmdb_ratings.drop(['status'], axis = 1)\n",
    "df_movies_tmdb_ratings = df_movies_tmdb_ratings.drop(['vote_average'], axis = 1)\n",
    "df_movies_tmdb_ratings = df_movies_tmdb_ratings.drop(['vote_count'], axis = 1)\n",
    "df_movies_tmdb_ratings = df_movies_tmdb_ratings.drop(['backdrop_path'], axis = 1)\n",
    "df_movies_tmdb_ratings = df_movies_tmdb_ratings.drop(['homepage'], axis = 1)\n",
    "df_movies_tmdb_ratings = df_movies_tmdb_ratings.drop(['original_title'], axis = 1)\n",
    "df_movies_tmdb_ratings = df_movies_tmdb_ratings.drop(['overview'], axis = 1)\n",
    "df_movies_tmdb_ratings = df_movies_tmdb_ratings.drop(['popularity'], axis = 1)\n",
    "df_movies_tmdb_ratings = df_movies_tmdb_ratings.drop(['poster_path'], axis = 1)\n",
    "df_movies_tmdb_ratings = df_movies_tmdb_ratings.drop(['tagline'], axis = 1)\n",
    "df_movies_tmdb_ratings = df_movies_tmdb_ratings.drop(['keywords'], axis = 1)\n",
    "df_movies_tmdb_ratings = df_movies_tmdb_ratings.drop(['movieId'], axis = 1)\n",
    "df_movies_tmdb_ratings = df_movies_tmdb_ratings.drop(['imdbId'], axis = 1)\n",
    "df_movies_tmdb_ratings = df_movies_tmdb_ratings.drop(['tmdbId'], axis = 1)\n",
    "df_movies_tmdb_ratings = df_movies_tmdb_ratings.drop(['adult'], axis = 1)\n",
    "df_movies_tmdb_ratings = df_movies_tmdb_ratings.drop(['production_countries'], axis = 1)"
   ]
  },
  {
   "cell_type": "code",
   "execution_count": 16,
   "metadata": {},
   "outputs": [],
   "source": [
    "# replacing the runtime outliers with mean of non-outliers, assuming normality, apply +/- t*IQR of quantiles method\n",
    "df_movies_tmdb_ratings = filling.fill_iqr(df_movies_tmdb_ratings, 'runtime', 3.5)"
   ]
  },
  {
   "cell_type": "markdown",
   "metadata": {},
   "source": [
    "By doing this, we are losing some outliers which might be interesting to study. For example, late 1800s movies have usually very short runtimes and this might be interesting to investigate."
   ]
  },
  {
   "cell_type": "markdown",
   "metadata": {},
   "source": [
    "Dealing with multiple genres movies is not trivial. Exploding multiple-genres movies might be a solution but one needs to be careful about the influence of this on the overall statistics of the dataframe. A quick analysis on the #genres distribution shows the latter to be left-skewed, this implies that generally a movie has a low number of genres when this is larger than 1. This could justisfy the choice of exploding multiple genres movies. For later on analysis, a possible solution would be to choose unique movies starting from the standard movies dataframe, selecting a multiple repeated times movie based on the most relevant genre among the ones that belong to it."
   ]
  },
  {
   "cell_type": "code",
   "execution_count": 17,
   "metadata": {},
   "outputs": [
    {
     "name": "stdout",
     "output_type": "stream",
     "text": [
      "The mean number of genres of a given movie is:  5\n"
     ]
    },
    {
     "data": {
      "image/png": "[encoded data removed]",
      "text/plain": [
       "<Figure size 800x600 with 1 Axes>"
      ]
     },
     "metadata": {},
     "output_type": "display_data"
    }
   ],
   "source": [
    "# getting the mean\n",
    "print(f'The mean number of genres of a given movie is: ', math.ceil(df_movies_tmdb_ratings['genres'].apply(len).mean()))\n",
    "\n",
    "# plotting the distribution\n",
    "n_genres = df_movies_tmdb_ratings['genres'].apply(len)\n",
    "plt.figure(figsize=(8, 6))\n",
    "plt.hist(n_genres, bins=range(1, max(n_genres) + 2), edgecolor='black', alpha=0.7)\n",
    "plt.title('Distribution of Number of Genres')\n",
    "plt.xlabel('Number of Genres')\n",
    "plt.ylabel('Frequency')\n",
    "plt.grid(True)"
   ]
  },
  {
   "cell_type": "markdown",
   "metadata": {},
   "source": [
    "In addition, when exploding only some relevant genre-wise movies copies will be kept. For example, if a movie has between genres 'Drama' and 'Acid western', with the first one being way more common than the second in the dataframe, only the movie copy with 'genre' == 'drama' is kept. This allows for a smaller influence of the explode operation on the overall statistics of the datframe, while maintaining a nice standard dataframe structure which is easy to handle genre-wise. "
   ]
  },
  {
   "cell_type": "code",
   "execution_count": 18,
   "metadata": {},
   "outputs": [],
   "source": [
    "# exploding df_movies_tmdb_ratings genres to retrieve most relevant ones\n",
    "df_movies_tmdb_ratings_exploded = df_movies_tmdb_ratings.explode(\"genres\")\n",
    "\n",
    "# find and sort number of movies for each exploded genre\n",
    "genres_counts = df_movies_tmdb_ratings_exploded.groupby(\"genres\").size()\n",
    "genres_counts = genres_counts.sort_values(axis=0, ascending=False)\n",
    "\n",
    "# searching most relevant genres as the ones that correspond to 90% of the total data\n",
    "genres_proportions = genres_counts.cumsum() / genres_counts.sum()\n",
    "n = len(genres_proportions[genres_proportions < 0.9])\n",
    "genres_relevant = genres_proportions.head(n).index.tolist()"
   ]
  },
  {
   "cell_type": "code",
   "execution_count": 19,
   "metadata": {},
   "outputs": [],
   "source": [
    "# splitting single and multi-genres\n",
    "df_movies_tmdb_ratings_multi = df_movies_tmdb_ratings[df_movies_tmdb_ratings['genres'].apply(len) > 1]\n",
    "df_movies_tmdb_ratings = df_movies_tmdb_ratings[df_movies_tmdb_ratings['genres'].apply(len) == 1]\n",
    "\n",
    "# selecting exploded movies whose genres are among the most relevant ones\n",
    "df_movies_tmdb_ratings_multi = df_movies_tmdb_ratings_multi.explode('genres')\n",
    "df_movies_tmdb_ratings_multi = df_movies_tmdb_ratings_multi[df_movies_tmdb_ratings_multi['genres'].isin(genres_relevant)]\n",
    "\n",
    "# joining the dataframes\n",
    "df_movies_tmdb_ratings = pd.concat([df_movies_tmdb_ratings, df_movies_tmdb_ratings_multi], ignore_index=True)\n",
    "\n",
    "# converting 'genres' column type\n",
    "df_movies_tmdb_ratings['genres'] = df_movies_tmdb_ratings['genres'].astype(str)"
   ]
  },
  {
   "cell_type": "markdown",
   "metadata": {},
   "source": [
    "Now that the genres column has been cleaned, a similar analysis needs to be performed for the 'spoken_languages' one and for 'countries'. Regarding the first one, since the TMDB dataset 'original_language' column has no missing values and has a standard format of one language per movie (e.g. en), this can be used without losing too much information or adding another heavy cleaning code. Considering the 'countries' column, one can follow a similar reasoning as before:"
   ]
  },
  {
   "cell_type": "code",
   "execution_count": 20,
   "metadata": {},
   "outputs": [
    {
     "name": "stdout",
     "output_type": "stream",
     "text": [
      "The mean number of countries of a given movie is:  2\n"
     ]
    },
    {
     "data": {
      "image/png": "[encoded data removed]",
      "text/plain": [
       "<Figure size 800x600 with 1 Axes>"
      ]
     },
     "metadata": {},
     "output_type": "display_data"
    }
   ],
   "source": [
    "# dropping missing 'countries' entries\n",
    "df_movies_tmdb_ratings.dropna(subset=['countries'], inplace=True)\n",
    "\n",
    "# getting the mean\n",
    "print(f'The mean number of countries of a given movie is: ', math.ceil(df_movies_tmdb_ratings['countries'].apply(len).mean()))\n",
    "\n",
    "# plotting the distribution\n",
    "n_countries = df_movies_tmdb_ratings['countries'].apply(len)\n",
    "plt.figure(figsize=(8, 6))\n",
    "plt.hist(n_countries, bins=range(1, max(n_countries) + 2), edgecolor='black', alpha=0.7)\n",
    "plt.title('Distribution of Number of Countries')\n",
    "plt.xlabel('Number of Countries')\n",
    "plt.ylabel('Frequency')\n",
    "plt.grid(True)"
   ]
  },
  {
   "cell_type": "markdown",
   "metadata": {},
   "source": [
    "The distribution is heavily left-skewed. Therefore, exploding by countries will not alter the statistics of the dataframe in a too relevant way. Since the number of added entries through exploding is not too large and since one of the main interests of the team's datastory is the geographical analysis of movies, all countries will be kept (i.e. no relevant countries procedure will be applied, opposite to what has been done for genres). Note that, once again, depending on the interested analysis to be performed only one entry for a specific duplicated movie can be easily considered with the current dataframe structure."
   ]
  },
  {
   "cell_type": "code",
   "execution_count": 21,
   "metadata": {},
   "outputs": [],
   "source": [
    "# exploding countries\n",
    "df_movies_tmdb_ratings = df_movies_tmdb_ratings.explode('countries')"
   ]
  },
  {
   "cell_type": "code",
   "execution_count": 22,
   "metadata": {},
   "outputs": [],
   "source": [
    "# final ordering of the standard dataframe\n",
    "df_movies_tmdb_ratings = df_movies_tmdb_ratings.sort_values(by='title')\n",
    "\n",
    "# in the 'revenue' column, substitute 0.0 with nan for clarity\n",
    "df_movies_tmdb_ratings['revenue'] = df_movies_tmdb_ratings['revenue'].replace(0.0, None)"
   ]
  },
  {
   "cell_type": "markdown",
   "metadata": {},
   "source": [
    "The final standard dataframe for movies data is `df_movies_tmdb_ratings`. The only columns which present some missing values are, in ascending order of missing data: `'spoken_languages'` (recall that `'original_language'` with 0% missing data is available), `'production_companies'`, `'revenue'`."
   ]
  },
  {
   "cell_type": "code",
   "execution_count": 24,
   "metadata": {},
   "outputs": [
    {
     "name": "stdout",
     "output_type": "stream",
     "text": [
      "There are now 23229 unique movies in the standard movies dataset.\n",
      "There were 75478 unique movies in the initial movies dataset.\n"
     ]
    }
   ],
   "source": [
    "unique_titles_now = len(df_movies_tmdb_ratings[\"title\"].unique())\n",
    "unique_titles_before = len(df_movies)\n",
    "print(f\"There are now {unique_titles_now} unique movies in the standard movies dataset.\")\n",
    "print(f\"There were {unique_titles_before} unique movies in the initial movies dataset.\")"
   ]
  },
  {
   "cell_type": "markdown",
   "metadata": {},
   "source": [
    "# CLEANING - Characters Dataset"
   ]
  },
  {
   "cell_type": "code",
   "execution_count": 22,
   "metadata": {},
   "outputs": [],
   "source": [
    "# clean characters 'release_date' to keep the release year only\n",
    "df_characters['release_date'] = df_characters['release_date'].apply(cleaning.clean_dates)\n",
    "df_characters['actor_birth'] = df_characters['actor_birth'].apply(cleaning.clean_dates)"
   ]
  },
  {
   "cell_type": "markdown",
   "metadata": {},
   "source": [
    "As for now, the plots dataset `df_plots` does not require any cleaning operation, as the dataset presents 0% missing values in its columns with no particular format to standardize."
   ]
  }
 ],
 "metadata": {
  "kernelspec": {
   "display_name": "ada",
   "language": "python",
   "name": "python3"
  },
  "language_info": {
   "codemirror_mode": {
    "name": "ipython",
    "version": 3
   },
   "file_extension": ".py",
   "mimetype": "text/x-python",
   "name": "python",
   "nbconvert_exporter": "python",
   "pygments_lexer": "ipython3",
   "version": "3.11.9"
  }
 },
 "nbformat": 4,
 "nbformat_minor": 2
}
